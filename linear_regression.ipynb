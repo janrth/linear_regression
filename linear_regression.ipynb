{
 "cells": [
  {
   "cell_type": "code",
   "execution_count": 1,
   "id": "b652fc81",
   "metadata": {},
   "outputs": [],
   "source": [
    "import pandas as pd \n",
    "import numpy as np\n",
    "import matplotlib.pyplot as plt \n",
    "from sklearn.linear_model import LinearRegression\n",
    "\n",
    "import linear_reg # own linear regression class"
   ]
  },
  {
   "cell_type": "code",
   "execution_count": 2,
   "id": "a3a9edd2",
   "metadata": {},
   "outputs": [],
   "source": [
    "# create data for Linear Regression:\n",
    "\n",
    "X = np.random.rand(10000,5)\n",
    "m = np.random.randint(low = 100, \n",
    "                      high = 2000,size = (5,1))  \n",
    "\n",
    "q = np.random.rand(1)\n",
    "y = (X @ m) + 100\n",
    "\n",
    "noise = np.random.randn(y.shape[0], y.shape[1])\n",
    "y = y + noise"
   ]
  },
  {
   "cell_type": "code",
   "execution_count": 3,
   "id": "74e5867c",
   "metadata": {},
   "outputs": [],
   "source": [
    "# instantiate the class\n",
    "\n",
    "lr = linear_reg.LinearReg(X,y)"
   ]
  },
  {
   "cell_type": "code",
   "execution_count": 4,
   "id": "51a06d7b",
   "metadata": {},
   "outputs": [],
   "source": [
    "# Apply gradient descent:\n",
    "\n",
    "weights = lr.gradient_descent(.01,20000)\n",
    "\n",
    "# return predictions using final weights:\n",
    "one = np.ones((len(X),1))\n",
    "X = np.append(one, X, axis=1)\n",
    "preds_own_lr = np.dot(X, weights.T)"
   ]
  },
  {
   "cell_type": "code",
   "execution_count": 5,
   "id": "0c526359",
   "metadata": {},
   "outputs": [],
   "source": [
    "# Instantiate linear regression from scikit-learn:\n",
    "\n",
    "reg = LinearRegression(fit_intercept=False).fit(X, y)\n",
    "preds_sk = reg.predict(X)"
   ]
  },
  {
   "cell_type": "code",
   "execution_count": 10,
   "id": "00d23612",
   "metadata": {},
   "outputs": [
    {
     "name": "stdout",
     "output_type": "stream",
     "text": [
      "[[  99.9669763   962.08017909  204.95343578 1729.04431756  704.02404469\n",
      "  1014.94990814]]\n",
      "\n",
      "[[ 100.61501773  961.83217761  204.6998977  1728.78955139  703.76631327\n",
      "  1014.71735093]]\n"
     ]
    }
   ],
   "source": [
    "# compare coefficients from scikit-learn and own LR:\n",
    "\n",
    "print(reg.coef_)\n",
    "print()\n",
    "print(weights)"
   ]
  },
  {
   "cell_type": "code",
   "execution_count": 8,
   "id": "bf31206a",
   "metadata": {},
   "outputs": [
    {
     "data": {
      "text/plain": [
       "<matplotlib.collections.PathCollection at 0x7f9cb819c7b8>"
      ]
     },
     "execution_count": 8,
     "metadata": {},
     "output_type": "execute_result"
    },
    {
     "data": {
      "image/png": "[encoded data removed]",
      "text/plain": [
       "<Figure size 432x288 with 1 Axes>"
      ]
     },
     "metadata": {
      "needs_background": "light"
     },
     "output_type": "display_data"
    }
   ],
   "source": [
    "# plot own predictions vs scikit-learn predictions:\n",
    "\n",
    "plt.scatter(np.concatenate(preds_own_lr), \n",
    "            np.concatenate(preds_sk))"
   ]
  },
  {
   "cell_type": "code",
   "execution_count": null,
   "id": "f5f77fb8",
   "metadata": {},
   "outputs": [],
   "source": []
  }
 ],
 "metadata": {
  "kernelspec": {
   "display_name": "Python 3",
   "language": "python",
   "name": "python3"
  },
  "language_info": {
   "codemirror_mode": {
    "name": "ipython",
    "version": 3
   },
   "file_extension": ".py",
   "mimetype": "text/x-python",
   "name": "python",
   "nbconvert_exporter": "python",
   "pygments_lexer": "ipython3",
   "version": "3.6.13"
  }
 },
 "nbformat": 4,
 "nbformat_minor": 5
}
